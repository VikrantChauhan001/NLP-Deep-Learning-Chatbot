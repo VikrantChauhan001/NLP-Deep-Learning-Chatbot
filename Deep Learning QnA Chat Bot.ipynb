{
 "cells": [
  {
   "cell_type": "code",
   "execution_count": 1,
   "metadata": {},
   "outputs": [],
   "source": [
    "import pickle\n",
    "import numpy as np"
   ]
  },
  {
   "cell_type": "code",
   "execution_count": 2,
   "metadata": {},
   "outputs": [],
   "source": [
    "with open(\"train_qa.txt\", \"rb\") as f:\n",
    "    train_data = pickle.load(f)"
   ]
  },
  {
   "cell_type": "code",
   "execution_count": 3,
   "metadata": {},
   "outputs": [],
   "source": [
    "with open(\"test_qa.txt\", \"rb\") as f:\n",
    "    test_data = pickle.load(f)"
   ]
  },
  {
   "cell_type": "code",
   "execution_count": 4,
   "metadata": {},
   "outputs": [
    {
     "data": {
      "text/plain": [
       "list"
      ]
     },
     "execution_count": 4,
     "metadata": {},
     "output_type": "execute_result"
    }
   ],
   "source": [
    "type(train_data)"
   ]
  },
  {
   "cell_type": "code",
   "execution_count": 5,
   "metadata": {},
   "outputs": [
    {
     "data": {
      "text/plain": [
       "10000"
      ]
     },
     "execution_count": 5,
     "metadata": {},
     "output_type": "execute_result"
    }
   ],
   "source": [
    "len(train_data)"
   ]
  },
  {
   "cell_type": "code",
   "execution_count": 6,
   "metadata": {},
   "outputs": [
    {
     "data": {
      "text/plain": [
       "1000"
      ]
     },
     "execution_count": 6,
     "metadata": {},
     "output_type": "execute_result"
    }
   ],
   "source": [
    "len(test_data)"
   ]
  },
  {
   "cell_type": "code",
   "execution_count": 8,
   "metadata": {},
   "outputs": [
    {
     "data": {
      "text/plain": [
       "(['Mary',\n",
       "  'moved',\n",
       "  'to',\n",
       "  'the',\n",
       "  'bathroom',\n",
       "  '.',\n",
       "  'Sandra',\n",
       "  'journeyed',\n",
       "  'to',\n",
       "  'the',\n",
       "  'bedroom',\n",
       "  '.'],\n",
       " ['Is', 'Sandra', 'in', 'the', 'hallway', '?'],\n",
       " 'no')"
      ]
     },
     "execution_count": 8,
     "metadata": {},
     "output_type": "execute_result"
    }
   ],
   "source": [
    "train_data[0]"
   ]
  },
  {
   "cell_type": "code",
   "execution_count": 9,
   "metadata": {},
   "outputs": [],
   "source": [
    "all_data = test_data + train_data"
   ]
  },
  {
   "cell_type": "code",
   "execution_count": 10,
   "metadata": {},
   "outputs": [
    {
     "data": {
      "text/plain": [
       "11000"
      ]
     },
     "execution_count": 10,
     "metadata": {},
     "output_type": "execute_result"
    }
   ],
   "source": [
    "len(all_data)"
   ]
  },
  {
   "cell_type": "code",
   "execution_count": 11,
   "metadata": {},
   "outputs": [],
   "source": [
    "vocab = set()\n",
    "for story, question, answer in all_data:\n",
    "    vocab = vocab.union(set(story))\n",
    "    vocab = vocab.union(set(question))"
   ]
  },
  {
   "cell_type": "code",
   "execution_count": 12,
   "metadata": {},
   "outputs": [],
   "source": [
    "vocab.add(\"no\")\n",
    "vocab.add(\"yes\")"
   ]
  },
  {
   "cell_type": "code",
   "execution_count": 13,
   "metadata": {},
   "outputs": [
    {
     "data": {
      "text/plain": [
       "{'.',\n",
       " '?',\n",
       " 'Daniel',\n",
       " 'Is',\n",
       " 'John',\n",
       " 'Mary',\n",
       " 'Sandra',\n",
       " 'apple',\n",
       " 'back',\n",
       " 'bathroom',\n",
       " 'bedroom',\n",
       " 'discarded',\n",
       " 'down',\n",
       " 'dropped',\n",
       " 'football',\n",
       " 'garden',\n",
       " 'got',\n",
       " 'grabbed',\n",
       " 'hallway',\n",
       " 'in',\n",
       " 'journeyed',\n",
       " 'kitchen',\n",
       " 'left',\n",
       " 'milk',\n",
       " 'moved',\n",
       " 'no',\n",
       " 'office',\n",
       " 'picked',\n",
       " 'put',\n",
       " 'the',\n",
       " 'there',\n",
       " 'to',\n",
       " 'took',\n",
       " 'travelled',\n",
       " 'up',\n",
       " 'went',\n",
       " 'yes'}"
      ]
     },
     "execution_count": 13,
     "metadata": {},
     "output_type": "execute_result"
    }
   ],
   "source": [
    "vocab"
   ]
  },
  {
   "cell_type": "code",
   "execution_count": 14,
   "metadata": {},
   "outputs": [],
   "source": [
    "vocab_len = len(vocab) + 1"
   ]
  },
  {
   "cell_type": "code",
   "execution_count": 16,
   "metadata": {},
   "outputs": [
    {
     "data": {
      "text/plain": [
       "38"
      ]
     },
     "execution_count": 16,
     "metadata": {},
     "output_type": "execute_result"
    }
   ],
   "source": [
    "vocab_len"
   ]
  },
  {
   "cell_type": "code",
   "execution_count": 20,
   "metadata": {},
   "outputs": [],
   "source": [
    "all_story_len = [len(data[0]) for data in all_data]"
   ]
  },
  {
   "cell_type": "code",
   "execution_count": 22,
   "metadata": {},
   "outputs": [],
   "source": [
    "max_story_len = max(all_story_len)"
   ]
  },
  {
   "cell_type": "code",
   "execution_count": 23,
   "metadata": {},
   "outputs": [],
   "source": [
    "max_question_len = max([len(data[1]) for data in all_data])"
   ]
  },
  {
   "cell_type": "code",
   "execution_count": 24,
   "metadata": {},
   "outputs": [
    {
     "data": {
      "text/plain": [
       "6"
      ]
     },
     "execution_count": 24,
     "metadata": {},
     "output_type": "execute_result"
    }
   ],
   "source": [
    "max_question_len"
   ]
  },
  {
   "cell_type": "code",
   "execution_count": 25,
   "metadata": {},
   "outputs": [],
   "source": [
    "from keras.preprocessing.sequence import pad_sequences\n",
    "from keras.preprocessing.text import Tokenizer"
   ]
  },
  {
   "cell_type": "code",
   "execution_count": 26,
   "metadata": {},
   "outputs": [],
   "source": [
    "tokenizer = Tokenizer(filters = [])"
   ]
  },
  {
   "cell_type": "code",
   "execution_count": 27,
   "metadata": {},
   "outputs": [],
   "source": [
    "tokenizer.fit_on_texts(vocab)"
   ]
  },
  {
   "cell_type": "code",
   "execution_count": 28,
   "metadata": {},
   "outputs": [
    {
     "data": {
      "text/plain": [
       "{'put': 1,\n",
       " 'left': 2,\n",
       " 'bathroom': 3,\n",
       " 'took': 4,\n",
       " 'is': 5,\n",
       " 'back': 6,\n",
       " 'bedroom': 7,\n",
       " 'journeyed': 8,\n",
       " 'discarded': 9,\n",
       " 'john': 10,\n",
       " 'hallway': 11,\n",
       " 'down': 12,\n",
       " 'travelled': 13,\n",
       " 'there': 14,\n",
       " 'daniel': 15,\n",
       " 'kitchen': 16,\n",
       " 'dropped': 17,\n",
       " 'apple': 18,\n",
       " 'got': 19,\n",
       " '?': 20,\n",
       " 'picked': 21,\n",
       " 'the': 22,\n",
       " 'yes': 23,\n",
       " 'football': 24,\n",
       " 'to': 25,\n",
       " '.': 26,\n",
       " 'up': 27,\n",
       " 'moved': 28,\n",
       " 'went': 29,\n",
       " 'grabbed': 30,\n",
       " 'in': 31,\n",
       " 'milk': 32,\n",
       " 'sandra': 33,\n",
       " 'office': 34,\n",
       " 'no': 35,\n",
       " 'garden': 36,\n",
       " 'mary': 37}"
      ]
     },
     "execution_count": 28,
     "metadata": {},
     "output_type": "execute_result"
    }
   ],
   "source": [
    "tokenizer.word_index"
   ]
  },
  {
   "cell_type": "code",
   "execution_count": 29,
   "metadata": {},
   "outputs": [],
   "source": [
    "train_story_text = []\n",
    "train_question_text = []\n",
    "train_answers = []"
   ]
  },
  {
   "cell_type": "code",
   "execution_count": 30,
   "metadata": {},
   "outputs": [],
   "source": [
    "for story, question, answer in train_data:\n",
    "    train_story_text.append(story)\n",
    "    train_question_text.append(question)\n",
    "    train_answers.append(answer)"
   ]
  },
  {
   "cell_type": "code",
   "execution_count": 31,
   "metadata": {},
   "outputs": [],
   "source": [
    "train_story_sequence = tokenizer.texts_to_sequences(train_story_text)\n",
    "# train_question_sequence = tokenizer.texts_to_sequences(train_question_text)"
   ]
  },
  {
   "cell_type": "code",
   "execution_count": 34,
   "metadata": {},
   "outputs": [],
   "source": [
    "def vectorize_stories(data, word_index = tokenizer.word_index, max_story_len = max_story_len, max_question_len = max_question_len):\n",
    "    x = []\n",
    "    xq = []\n",
    "    y = []\n",
    "    for story, question, answer in data:\n",
    "        x_temp = [word_index[word.lower()] for word in story]\n",
    "        xq_temp = [word_index[word.lower()] for word in question]        \n",
    "        y_temp = np.zeros(len(word_index)+1)\n",
    "        y_temp[word_index[answer]] = 1\n",
    "        x.append(x_temp)\n",
    "        xq.append(xq_temp)        \n",
    "        y.append(y_temp)\n",
    "    return (pad_sequences(x,maxlen = max_story_len),pad_sequences(xq,maxlen = max_question_len), np.array(y))"
   ]
  },
  {
   "cell_type": "code",
   "execution_count": 35,
   "metadata": {},
   "outputs": [],
   "source": [
    "inputs_train, queries_train, answers_train = vectorize_stories(train_data)"
   ]
  },
  {
   "cell_type": "code",
   "execution_count": 36,
   "metadata": {},
   "outputs": [],
   "source": [
    "inputs_test, queries_test, answers_test = vectorize_stories(test_data)"
   ]
  },
  {
   "cell_type": "code",
   "execution_count": 37,
   "metadata": {},
   "outputs": [],
   "source": [
    "from keras.models import Sequential, Model"
   ]
  },
  {
   "cell_type": "code",
   "execution_count": 38,
   "metadata": {},
   "outputs": [],
   "source": [
    "from keras.layers.embeddings import Embedding"
   ]
  },
  {
   "cell_type": "code",
   "execution_count": 39,
   "metadata": {},
   "outputs": [],
   "source": [
    "from keras.layers import Input, Activation, Dense, Permute, Dropout, add, dot, concatenate, LSTM"
   ]
  },
  {
   "cell_type": "code",
   "execution_count": 40,
   "metadata": {},
   "outputs": [],
   "source": [
    "input_sequence = Input((max_story_len,))\n",
    "question = Input((max_question_len,))"
   ]
  },
  {
   "cell_type": "code",
   "execution_count": 41,
   "metadata": {},
   "outputs": [],
   "source": [
    "vocab_size = len(vocab)+1"
   ]
  },
  {
   "cell_type": "code",
   "execution_count": 42,
   "metadata": {},
   "outputs": [],
   "source": [
    "input_encoder_m = Sequential()\n",
    "input_encoder_m.add(Embedding(input_dim=vocab_size, output_dim=64))\n",
    "input_encoder_m.add(Dropout(0.3))\n"
   ]
  },
  {
   "cell_type": "code",
   "execution_count": 43,
   "metadata": {},
   "outputs": [],
   "source": [
    "input_encoder_c = Sequential()\n",
    "input_encoder_c.add(Embedding(input_dim=vocab_size, output_dim=max_question_len))\n",
    "input_encoder_c.add(Dropout(0.3))"
   ]
  },
  {
   "cell_type": "code",
   "execution_count": 44,
   "metadata": {},
   "outputs": [],
   "source": [
    "question_encoder = Sequential()\n",
    "question_encoder.add(Embedding(input_dim=vocab_size, output_dim=64, input_length=max_question_len))\n",
    "question_encoder.add(Dropout(0.3))"
   ]
  },
  {
   "cell_type": "code",
   "execution_count": 45,
   "metadata": {},
   "outputs": [],
   "source": [
    "input_encoded_m = input_encoder_m(input_sequence)\n",
    "input_encoded_c = input_encoder_c(input_sequence)\n",
    "question_encoded = question_encoder(question)"
   ]
  },
  {
   "cell_type": "code",
   "execution_count": 46,
   "metadata": {},
   "outputs": [],
   "source": [
    "match = dot([input_encoded_m, question_encoded], axes = (2,2))"
   ]
  },
  {
   "cell_type": "code",
   "execution_count": 47,
   "metadata": {},
   "outputs": [],
   "source": [
    "match = Activation(\"softmax\")(match)"
   ]
  },
  {
   "cell_type": "code",
   "execution_count": 48,
   "metadata": {},
   "outputs": [],
   "source": [
    "response = add([match, input_encoded_c])\n",
    "response = Permute((2,1))(response)"
   ]
  },
  {
   "cell_type": "code",
   "execution_count": 49,
   "metadata": {},
   "outputs": [],
   "source": [
    "answer = concatenate([response, question_encoded])"
   ]
  },
  {
   "cell_type": "code",
   "execution_count": 50,
   "metadata": {},
   "outputs": [
    {
     "data": {
      "text/plain": [
       "<tf.Tensor 'concatenate_1/concat:0' shape=(None, 6, 220) dtype=float32>"
      ]
     },
     "execution_count": 50,
     "metadata": {},
     "output_type": "execute_result"
    }
   ],
   "source": [
    "answer"
   ]
  },
  {
   "cell_type": "code",
   "execution_count": 51,
   "metadata": {},
   "outputs": [],
   "source": [
    "answer = LSTM(32)(answer)"
   ]
  },
  {
   "cell_type": "code",
   "execution_count": 52,
   "metadata": {},
   "outputs": [],
   "source": [
    "answer = Dropout(0.5)(answer)"
   ]
  },
  {
   "cell_type": "code",
   "execution_count": 53,
   "metadata": {},
   "outputs": [],
   "source": [
    "answer = Dense(vocab_size)(answer)"
   ]
  },
  {
   "cell_type": "code",
   "execution_count": 54,
   "metadata": {},
   "outputs": [],
   "source": [
    "answer = Activation(\"softmax\")(answer)"
   ]
  },
  {
   "cell_type": "code",
   "execution_count": 55,
   "metadata": {},
   "outputs": [],
   "source": [
    "model = Model([input_sequence, question], answer)"
   ]
  },
  {
   "cell_type": "code",
   "execution_count": 56,
   "metadata": {},
   "outputs": [],
   "source": [
    "model.compile(optimizer=\"rmsprop\", loss = \"categorical_crossentropy\", metrics=[\"accuracy\"])"
   ]
  },
  {
   "cell_type": "code",
   "execution_count": 57,
   "metadata": {},
   "outputs": [
    {
     "name": "stdout",
     "output_type": "stream",
     "text": [
      "Model: \"model_1\"\n",
      "__________________________________________________________________________________________________\n",
      "Layer (type)                    Output Shape         Param #     Connected to                     \n",
      "==================================================================================================\n",
      "input_1 (InputLayer)            (None, 156)          0                                            \n",
      "__________________________________________________________________________________________________\n",
      "input_2 (InputLayer)            (None, 6)            0                                            \n",
      "__________________________________________________________________________________________________\n",
      "sequential_1 (Sequential)       multiple             2432        input_1[0][0]                    \n",
      "__________________________________________________________________________________________________\n",
      "sequential_3 (Sequential)       (None, 6, 64)        2432        input_2[0][0]                    \n",
      "__________________________________________________________________________________________________\n",
      "dot_1 (Dot)                     (None, 156, 6)       0           sequential_1[1][0]               \n",
      "                                                                 sequential_3[1][0]               \n",
      "__________________________________________________________________________________________________\n",
      "activation_1 (Activation)       (None, 156, 6)       0           dot_1[0][0]                      \n",
      "__________________________________________________________________________________________________\n",
      "sequential_2 (Sequential)       multiple             228         input_1[0][0]                    \n",
      "__________________________________________________________________________________________________\n",
      "add_1 (Add)                     (None, 156, 6)       0           activation_1[0][0]               \n",
      "                                                                 sequential_2[1][0]               \n",
      "__________________________________________________________________________________________________\n",
      "permute_1 (Permute)             (None, 6, 156)       0           add_1[0][0]                      \n",
      "__________________________________________________________________________________________________\n",
      "concatenate_1 (Concatenate)     (None, 6, 220)       0           permute_1[0][0]                  \n",
      "                                                                 sequential_3[1][0]               \n",
      "__________________________________________________________________________________________________\n",
      "lstm_1 (LSTM)                   (None, 32)           32384       concatenate_1[0][0]              \n",
      "__________________________________________________________________________________________________\n",
      "dropout_4 (Dropout)             (None, 32)           0           lstm_1[0][0]                     \n",
      "__________________________________________________________________________________________________\n",
      "dense_1 (Dense)                 (None, 38)           1254        dropout_4[0][0]                  \n",
      "__________________________________________________________________________________________________\n",
      "activation_2 (Activation)       (None, 38)           0           dense_1[0][0]                    \n",
      "==================================================================================================\n",
      "Total params: 38,730\n",
      "Trainable params: 38,730\n",
      "Non-trainable params: 0\n",
      "__________________________________________________________________________________________________\n"
     ]
    }
   ],
   "source": [
    "model.summary()"
   ]
  },
  {
   "cell_type": "code",
   "execution_count": 58,
   "metadata": {},
   "outputs": [
    {
     "name": "stderr",
     "output_type": "stream",
     "text": [
      "C:\\Users\\vikra\\AppData\\Local\\Programs\\Python\\Python37\\lib\\site-packages\\tensorflow_core\\python\\framework\\indexed_slices.py:424: UserWarning: Converting sparse IndexedSlices to a dense Tensor of unknown shape. This may consume a large amount of memory.\n",
      "  \"Converting sparse IndexedSlices to a dense Tensor of unknown shape. \"\n"
     ]
    },
    {
     "name": "stdout",
     "output_type": "stream",
     "text": [
      "Train on 10000 samples, validate on 1000 samples\n",
      "Epoch 1/200\n",
      "10000/10000 [==============================] - 4s 403us/step - loss: 0.9230 - accuracy: 0.5034 - val_loss: 0.6967 - val_accuracy: 0.5030\n",
      "Epoch 2/200\n",
      "10000/10000 [==============================] - 3s 303us/step - loss: 0.7051 - accuracy: 0.5024 - val_loss: 0.6939 - val_accuracy: 0.4970\n",
      "Epoch 3/200\n",
      "10000/10000 [==============================] - 3s 301us/step - loss: 0.6961 - accuracy: 0.5039 - val_loss: 0.6933 - val_accuracy: 0.4970\n",
      "Epoch 4/200\n",
      "10000/10000 [==============================] - 3s 334us/step - loss: 0.6950 - accuracy: 0.5014 - val_loss: 0.6932 - val_accuracy: 0.5030\n",
      "Epoch 5/200\n",
      "10000/10000 [==============================] - 4s 362us/step - loss: 0.6938 - accuracy: 0.4994 - val_loss: 0.6934 - val_accuracy: 0.5030\n",
      "Epoch 6/200\n",
      "10000/10000 [==============================] - 3s 327us/step - loss: 0.6951 - accuracy: 0.4967 - val_loss: 0.6937 - val_accuracy: 0.4970\n",
      "Epoch 7/200\n",
      "10000/10000 [==============================] - 3s 303us/step - loss: 0.6943 - accuracy: 0.5057 - val_loss: 0.6932 - val_accuracy: 0.4970\n",
      "Epoch 8/200\n",
      "10000/10000 [==============================] - 3s 307us/step - loss: 0.6943 - accuracy: 0.5030 - val_loss: 0.6932 - val_accuracy: 0.5040\n",
      "Epoch 9/200\n",
      "10000/10000 [==============================] - 3s 307us/step - loss: 0.6941 - accuracy: 0.5014 - val_loss: 0.6935 - val_accuracy: 0.4980\n",
      "Epoch 10/200\n",
      "10000/10000 [==============================] - 3s 307us/step - loss: 0.6934 - accuracy: 0.5124 - val_loss: 0.6935 - val_accuracy: 0.5050\n",
      "Epoch 11/200\n",
      "10000/10000 [==============================] - 3s 308us/step - loss: 0.6724 - accuracy: 0.5775 - val_loss: 0.6078 - val_accuracy: 0.7010\n",
      "Epoch 12/200\n",
      "10000/10000 [==============================] - 3s 308us/step - loss: 0.5324 - accuracy: 0.7531 - val_loss: 0.4559 - val_accuracy: 0.7910\n",
      "Epoch 13/200\n",
      "10000/10000 [==============================] - 3s 307us/step - loss: 0.4496 - accuracy: 0.8086 - val_loss: 0.4143 - val_accuracy: 0.8200\n",
      "Epoch 14/200\n",
      "10000/10000 [==============================] - 3s 306us/step - loss: 0.4064 - accuracy: 0.8332 - val_loss: 0.4208 - val_accuracy: 0.8420\n",
      "Epoch 15/200\n",
      "10000/10000 [==============================] - 3s 308us/step - loss: 0.3778 - accuracy: 0.8430 - val_loss: 0.4008 - val_accuracy: 0.8290\n",
      "Epoch 16/200\n",
      "10000/10000 [==============================] - 3s 306us/step - loss: 0.3673 - accuracy: 0.8497 - val_loss: 0.3781 - val_accuracy: 0.8300\n",
      "Epoch 17/200\n",
      "10000/10000 [==============================] - 3s 311us/step - loss: 0.3580 - accuracy: 0.8539 - val_loss: 0.3689 - val_accuracy: 0.8420\n",
      "Epoch 18/200\n",
      "10000/10000 [==============================] - 3s 307us/step - loss: 0.3442 - accuracy: 0.8588 - val_loss: 0.3687 - val_accuracy: 0.8420\n",
      "Epoch 19/200\n",
      "10000/10000 [==============================] - 3s 310us/step - loss: 0.3362 - accuracy: 0.8598 - val_loss: 0.3641 - val_accuracy: 0.8280\n",
      "Epoch 20/200\n",
      "10000/10000 [==============================] - 3s 313us/step - loss: 0.3300 - accuracy: 0.8599 - val_loss: 0.3685 - val_accuracy: 0.8290\n",
      "Epoch 21/200\n",
      "10000/10000 [==============================] - 3s 317us/step - loss: 0.3270 - accuracy: 0.8627 - val_loss: 0.3596 - val_accuracy: 0.8410\n",
      "Epoch 22/200\n",
      "10000/10000 [==============================] - 3s 311us/step - loss: 0.3169 - accuracy: 0.8640 - val_loss: 0.3373 - val_accuracy: 0.8440\n",
      "Epoch 23/200\n",
      "10000/10000 [==============================] - 3s 306us/step - loss: 0.3116 - accuracy: 0.8649 - val_loss: 0.3432 - val_accuracy: 0.8280\n",
      "Epoch 24/200\n",
      "10000/10000 [==============================] - 3s 309us/step - loss: 0.3116 - accuracy: 0.8659 - val_loss: 0.3759 - val_accuracy: 0.8160\n",
      "Epoch 25/200\n",
      "10000/10000 [==============================] - 3s 311us/step - loss: 0.3119 - accuracy: 0.8628 - val_loss: 0.3416 - val_accuracy: 0.8390\n",
      "Epoch 26/200\n",
      "10000/10000 [==============================] - 3s 312us/step - loss: 0.3048 - accuracy: 0.8651 - val_loss: 0.3455 - val_accuracy: 0.8410\n",
      "Epoch 27/200\n",
      "10000/10000 [==============================] - 3s 309us/step - loss: 0.3049 - accuracy: 0.8654 - val_loss: 0.3351 - val_accuracy: 0.8470\n",
      "Epoch 28/200\n",
      "10000/10000 [==============================] - 3s 310us/step - loss: 0.3032 - accuracy: 0.8690 - val_loss: 0.3342 - val_accuracy: 0.8360\n",
      "Epoch 29/200\n",
      "10000/10000 [==============================] - 3s 310us/step - loss: 0.2989 - accuracy: 0.8678 - val_loss: 0.3330 - val_accuracy: 0.8360\n",
      "Epoch 30/200\n",
      "10000/10000 [==============================] - 3s 308us/step - loss: 0.3026 - accuracy: 0.8661 - val_loss: 0.3321 - val_accuracy: 0.8410\n",
      "Epoch 31/200\n",
      "10000/10000 [==============================] - 3s 309us/step - loss: 0.2997 - accuracy: 0.8672 - val_loss: 0.3416 - val_accuracy: 0.8380\n",
      "Epoch 32/200\n",
      "10000/10000 [==============================] - 3s 307us/step - loss: 0.2976 - accuracy: 0.8654 - val_loss: 0.3295 - val_accuracy: 0.8440\n",
      "Epoch 33/200\n",
      "10000/10000 [==============================] - 3s 309us/step - loss: 0.2971 - accuracy: 0.8704 - val_loss: 0.3282 - val_accuracy: 0.8440\n",
      "Epoch 34/200\n",
      "10000/10000 [==============================] - 3s 310us/step - loss: 0.2945 - accuracy: 0.8664 - val_loss: 0.3388 - val_accuracy: 0.8370\n",
      "Epoch 35/200\n",
      "10000/10000 [==============================] - 3s 310us/step - loss: 0.2921 - accuracy: 0.8723 - val_loss: 0.3254 - val_accuracy: 0.8450\n",
      "Epoch 36/200\n",
      "10000/10000 [==============================] - 3s 306us/step - loss: 0.2908 - accuracy: 0.8716 - val_loss: 0.3446 - val_accuracy: 0.8340\n",
      "Epoch 37/200\n",
      "10000/10000 [==============================] - 3s 316us/step - loss: 0.2929 - accuracy: 0.8714 - val_loss: 0.3335 - val_accuracy: 0.8380\n",
      "Epoch 38/200\n",
      "10000/10000 [==============================] - 3s 307us/step - loss: 0.2895 - accuracy: 0.8713 - val_loss: 0.3367 - val_accuracy: 0.8440\n",
      "Epoch 39/200\n",
      "10000/10000 [==============================] - 3s 311us/step - loss: 0.2893 - accuracy: 0.8707 - val_loss: 0.3347 - val_accuracy: 0.8450\n",
      "Epoch 40/200\n",
      "10000/10000 [==============================] - 3s 309us/step - loss: 0.2904 - accuracy: 0.8696 - val_loss: 0.3278 - val_accuracy: 0.8440\n",
      "Epoch 41/200\n",
      "10000/10000 [==============================] - 3s 308us/step - loss: 0.2882 - accuracy: 0.8705 - val_loss: 0.3401 - val_accuracy: 0.8440\n",
      "Epoch 42/200\n",
      "10000/10000 [==============================] - 3s 309us/step - loss: 0.2840 - accuracy: 0.8731 - val_loss: 0.3310 - val_accuracy: 0.8390\n",
      "Epoch 43/200\n",
      "10000/10000 [==============================] - 3s 310us/step - loss: 0.2861 - accuracy: 0.8703 - val_loss: 0.3530 - val_accuracy: 0.8420\n",
      "Epoch 44/200\n",
      "10000/10000 [==============================] - 3s 311us/step - loss: 0.2830 - accuracy: 0.8737 - val_loss: 0.3797 - val_accuracy: 0.8310\n",
      "Epoch 45/200\n",
      "10000/10000 [==============================] - 3s 309us/step - loss: 0.2855 - accuracy: 0.8745 - val_loss: 0.3266 - val_accuracy: 0.8440\n",
      "Epoch 46/200\n",
      "10000/10000 [==============================] - 3s 311us/step - loss: 0.2836 - accuracy: 0.8739 - val_loss: 0.3368 - val_accuracy: 0.8330\n",
      "Epoch 47/200\n",
      "10000/10000 [==============================] - 3s 311us/step - loss: 0.2838 - accuracy: 0.8740 - val_loss: 0.3313 - val_accuracy: 0.8350\n",
      "Epoch 48/200\n",
      "10000/10000 [==============================] - 3s 307us/step - loss: 0.2837 - accuracy: 0.8718 - val_loss: 0.3341 - val_accuracy: 0.8410\n",
      "Epoch 49/200\n",
      "10000/10000 [==============================] - 3s 311us/step - loss: 0.2826 - accuracy: 0.8708 - val_loss: 0.3461 - val_accuracy: 0.8360\n",
      "Epoch 50/200\n",
      "10000/10000 [==============================] - 3s 307us/step - loss: 0.2841 - accuracy: 0.8711 - val_loss: 0.3345 - val_accuracy: 0.8380\n",
      "Epoch 51/200\n",
      "10000/10000 [==============================] - 3s 308us/step - loss: 0.2785 - accuracy: 0.8728 - val_loss: 0.3432 - val_accuracy: 0.8370\n",
      "Epoch 52/200\n",
      "10000/10000 [==============================] - 3s 308us/step - loss: 0.2752 - accuracy: 0.8748 - val_loss: 0.3567 - val_accuracy: 0.8400\n",
      "Epoch 53/200\n",
      "10000/10000 [==============================] - 3s 308us/step - loss: 0.2796 - accuracy: 0.8735 - val_loss: 0.3323 - val_accuracy: 0.8380\n",
      "Epoch 54/200\n",
      "10000/10000 [==============================] - 3s 309us/step - loss: 0.2809 - accuracy: 0.8737 - val_loss: 0.3523 - val_accuracy: 0.8380\n",
      "Epoch 55/200\n"
     ]
    },
    {
     "name": "stdout",
     "output_type": "stream",
     "text": [
      "10000/10000 [==============================] - 3s 307us/step - loss: 0.2764 - accuracy: 0.8736 - val_loss: 0.3538 - val_accuracy: 0.8400\n",
      "Epoch 56/200\n",
      "10000/10000 [==============================] - 3s 303us/step - loss: 0.2749 - accuracy: 0.8729 - val_loss: 0.3417 - val_accuracy: 0.8400\n",
      "Epoch 57/200\n",
      "10000/10000 [==============================] - 3s 302us/step - loss: 0.2733 - accuracy: 0.8743 - val_loss: 0.3462 - val_accuracy: 0.8350\n",
      "Epoch 58/200\n",
      "10000/10000 [==============================] - 3s 305us/step - loss: 0.2726 - accuracy: 0.8771 - val_loss: 0.3534 - val_accuracy: 0.8310\n",
      "Epoch 59/200\n",
      "10000/10000 [==============================] - 3s 304us/step - loss: 0.2662 - accuracy: 0.8799 - val_loss: 0.3624 - val_accuracy: 0.8340\n",
      "Epoch 60/200\n",
      "10000/10000 [==============================] - 3s 306us/step - loss: 0.2721 - accuracy: 0.8759 - val_loss: 0.3643 - val_accuracy: 0.8330\n",
      "Epoch 61/200\n",
      "10000/10000 [==============================] - 3s 306us/step - loss: 0.2712 - accuracy: 0.8787 - val_loss: 0.3483 - val_accuracy: 0.8310\n",
      "Epoch 62/200\n",
      "10000/10000 [==============================] - 3s 306us/step - loss: 0.2702 - accuracy: 0.8805 - val_loss: 0.3492 - val_accuracy: 0.8350\n",
      "Epoch 63/200\n",
      "10000/10000 [==============================] - 3s 308us/step - loss: 0.2669 - accuracy: 0.8784 - val_loss: 0.3871 - val_accuracy: 0.8330\n",
      "Epoch 64/200\n",
      "10000/10000 [==============================] - 3s 308us/step - loss: 0.2691 - accuracy: 0.8781 - val_loss: 0.3472 - val_accuracy: 0.8350\n",
      "Epoch 65/200\n",
      "10000/10000 [==============================] - 3s 307us/step - loss: 0.2629 - accuracy: 0.8831 - val_loss: 0.3486 - val_accuracy: 0.8330\n",
      "Epoch 66/200\n",
      "10000/10000 [==============================] - 3s 305us/step - loss: 0.2616 - accuracy: 0.8845 - val_loss: 0.3462 - val_accuracy: 0.8370\n",
      "Epoch 67/200\n",
      "10000/10000 [==============================] - 3s 306us/step - loss: 0.2634 - accuracy: 0.8807 - val_loss: 0.3519 - val_accuracy: 0.8350\n",
      "Epoch 68/200\n",
      "10000/10000 [==============================] - 3s 305us/step - loss: 0.2631 - accuracy: 0.8793 - val_loss: 0.3596 - val_accuracy: 0.8300\n",
      "Epoch 69/200\n",
      "10000/10000 [==============================] - 3s 302us/step - loss: 0.2564 - accuracy: 0.8839 - val_loss: 0.3884 - val_accuracy: 0.8360\n",
      "Epoch 70/200\n",
      "10000/10000 [==============================] - 3s 308us/step - loss: 0.2639 - accuracy: 0.8805 - val_loss: 0.3914 - val_accuracy: 0.8310\n",
      "Epoch 71/200\n",
      "10000/10000 [==============================] - 3s 308us/step - loss: 0.2657 - accuracy: 0.8783 - val_loss: 0.3974 - val_accuracy: 0.8250\n",
      "Epoch 72/200\n",
      "10000/10000 [==============================] - 3s 303us/step - loss: 0.2573 - accuracy: 0.8864 - val_loss: 0.4134 - val_accuracy: 0.8330\n",
      "Epoch 73/200\n",
      "10000/10000 [==============================] - 3s 305us/step - loss: 0.2549 - accuracy: 0.8845 - val_loss: 0.3729 - val_accuracy: 0.8420\n",
      "Epoch 74/200\n",
      "10000/10000 [==============================] - 3s 308us/step - loss: 0.2575 - accuracy: 0.8840 - val_loss: 0.3577 - val_accuracy: 0.8380\n",
      "Epoch 75/200\n",
      "10000/10000 [==============================] - 3s 304us/step - loss: 0.2543 - accuracy: 0.8835 - val_loss: 0.3620 - val_accuracy: 0.8400\n",
      "Epoch 76/200\n",
      "10000/10000 [==============================] - 3s 307us/step - loss: 0.2571 - accuracy: 0.8880 - val_loss: 0.3710 - val_accuracy: 0.8350\n",
      "Epoch 77/200\n",
      "10000/10000 [==============================] - 3s 307us/step - loss: 0.2559 - accuracy: 0.8856 - val_loss: 0.3993 - val_accuracy: 0.8340\n",
      "Epoch 78/200\n",
      "10000/10000 [==============================] - 3s 309us/step - loss: 0.2520 - accuracy: 0.8889 - val_loss: 0.3880 - val_accuracy: 0.8370\n",
      "Epoch 79/200\n",
      "10000/10000 [==============================] - 3s 311us/step - loss: 0.2504 - accuracy: 0.8833 - val_loss: 0.3982 - val_accuracy: 0.8300\n",
      "Epoch 80/200\n",
      "10000/10000 [==============================] - 3s 310us/step - loss: 0.2497 - accuracy: 0.8869 - val_loss: 0.3975 - val_accuracy: 0.8270\n",
      "Epoch 81/200\n",
      "10000/10000 [==============================] - 3s 311us/step - loss: 0.2508 - accuracy: 0.8893 - val_loss: 0.4453 - val_accuracy: 0.8300\n",
      "Epoch 82/200\n",
      "10000/10000 [==============================] - 3s 312us/step - loss: 0.2444 - accuracy: 0.8909 - val_loss: 0.4064 - val_accuracy: 0.8370\n",
      "Epoch 83/200\n",
      "10000/10000 [==============================] - 3s 317us/step - loss: 0.2434 - accuracy: 0.8897 - val_loss: 0.3819 - val_accuracy: 0.8340\n",
      "Epoch 84/200\n",
      "10000/10000 [==============================] - 3s 310us/step - loss: 0.2450 - accuracy: 0.8900 - val_loss: 0.3918 - val_accuracy: 0.8390\n",
      "Epoch 85/200\n",
      "10000/10000 [==============================] - 3s 310us/step - loss: 0.2462 - accuracy: 0.8875 - val_loss: 0.4073 - val_accuracy: 0.8290\n",
      "Epoch 86/200\n",
      "10000/10000 [==============================] - 3s 308us/step - loss: 0.2414 - accuracy: 0.8891 - val_loss: 0.4319 - val_accuracy: 0.8200\n",
      "Epoch 87/200\n",
      "10000/10000 [==============================] - 3s 313us/step - loss: 0.2397 - accuracy: 0.8914 - val_loss: 0.4323 - val_accuracy: 0.8300\n",
      "Epoch 88/200\n",
      "10000/10000 [==============================] - 3s 310us/step - loss: 0.2425 - accuracy: 0.8902 - val_loss: 0.4247 - val_accuracy: 0.8250\n",
      "Epoch 89/200\n",
      "10000/10000 [==============================] - 3s 307us/step - loss: 0.2387 - accuracy: 0.8900 - val_loss: 0.4045 - val_accuracy: 0.8300\n",
      "Epoch 90/200\n",
      "10000/10000 [==============================] - 3s 306us/step - loss: 0.2396 - accuracy: 0.8923 - val_loss: 0.4117 - val_accuracy: 0.8310\n",
      "Epoch 91/200\n",
      "10000/10000 [==============================] - 3s 309us/step - loss: 0.2426 - accuracy: 0.8904 - val_loss: 0.4272 - val_accuracy: 0.8290\n",
      "Epoch 92/200\n",
      "10000/10000 [==============================] - 3s 303us/step - loss: 0.2430 - accuracy: 0.8950 - val_loss: 0.4535 - val_accuracy: 0.8310\n",
      "Epoch 93/200\n",
      "10000/10000 [==============================] - 3s 308us/step - loss: 0.2331 - accuracy: 0.8949 - val_loss: 0.5042 - val_accuracy: 0.8280\n",
      "Epoch 94/200\n",
      "10000/10000 [==============================] - 3s 306us/step - loss: 0.2374 - accuracy: 0.8949 - val_loss: 0.4114 - val_accuracy: 0.8330\n",
      "Epoch 95/200\n",
      "10000/10000 [==============================] - 3s 307us/step - loss: 0.2372 - accuracy: 0.8931 - val_loss: 0.4411 - val_accuracy: 0.8360\n",
      "Epoch 96/200\n",
      "10000/10000 [==============================] - 3s 309us/step - loss: 0.2322 - accuracy: 0.8967 - val_loss: 0.4764 - val_accuracy: 0.8330\n",
      "Epoch 97/200\n",
      "10000/10000 [==============================] - 3s 310us/step - loss: 0.2291 - accuracy: 0.8970 - val_loss: 0.4565 - val_accuracy: 0.8300\n",
      "Epoch 98/200\n",
      "10000/10000 [==============================] - 3s 310us/step - loss: 0.2332 - accuracy: 0.8965 - val_loss: 0.4105 - val_accuracy: 0.8360\n",
      "Epoch 99/200\n",
      "10000/10000 [==============================] - 3s 311us/step - loss: 0.2314 - accuracy: 0.8966 - val_loss: 0.4960 - val_accuracy: 0.8260\n",
      "Epoch 100/200\n",
      "10000/10000 [==============================] - 3s 309us/step - loss: 0.2314 - accuracy: 0.8976 - val_loss: 0.4416 - val_accuracy: 0.8280\n",
      "Epoch 101/200\n",
      "10000/10000 [==============================] - 3s 309us/step - loss: 0.2270 - accuracy: 0.8956 - val_loss: 0.4773 - val_accuracy: 0.8320\n",
      "Epoch 102/200\n",
      "10000/10000 [==============================] - 3s 310us/step - loss: 0.2286 - accuracy: 0.8980 - val_loss: 0.4849 - val_accuracy: 0.8330\n",
      "Epoch 103/200\n",
      "10000/10000 [==============================] - 3s 306us/step - loss: 0.2215 - accuracy: 0.9014 - val_loss: 0.4370 - val_accuracy: 0.8300\n",
      "Epoch 104/200\n",
      "10000/10000 [==============================] - 3s 310us/step - loss: 0.2224 - accuracy: 0.8989 - val_loss: 0.4878 - val_accuracy: 0.8350\n",
      "Epoch 105/200\n",
      "10000/10000 [==============================] - 3s 308us/step - loss: 0.2273 - accuracy: 0.8996 - val_loss: 0.4573 - val_accuracy: 0.8290\n",
      "Epoch 106/200\n",
      "10000/10000 [==============================] - 3s 305us/step - loss: 0.2304 - accuracy: 0.8977 - val_loss: 0.4673 - val_accuracy: 0.8350\n",
      "Epoch 107/200\n",
      "10000/10000 [==============================] - 3s 308us/step - loss: 0.2214 - accuracy: 0.9014 - val_loss: 0.4492 - val_accuracy: 0.8310\n",
      "Epoch 108/200\n",
      "10000/10000 [==============================] - 3s 310us/step - loss: 0.2256 - accuracy: 0.8998 - val_loss: 0.4685 - val_accuracy: 0.8380\n",
      "Epoch 109/200\n"
     ]
    },
    {
     "name": "stdout",
     "output_type": "stream",
     "text": [
      "10000/10000 [==============================] - 3s 303us/step - loss: 0.2206 - accuracy: 0.9009 - val_loss: 0.4761 - val_accuracy: 0.8390\n",
      "Epoch 110/200\n",
      "10000/10000 [==============================] - 3s 302us/step - loss: 0.2213 - accuracy: 0.9016 - val_loss: 0.4499 - val_accuracy: 0.8300\n",
      "Epoch 111/200\n",
      "10000/10000 [==============================] - 3s 301us/step - loss: 0.2220 - accuracy: 0.9022 - val_loss: 0.4890 - val_accuracy: 0.8280\n",
      "Epoch 112/200\n",
      "10000/10000 [==============================] - 3s 300us/step - loss: 0.2194 - accuracy: 0.9049 - val_loss: 0.4686 - val_accuracy: 0.8230\n",
      "Epoch 113/200\n",
      "10000/10000 [==============================] - 3s 307us/step - loss: 0.2187 - accuracy: 0.9024 - val_loss: 0.4945 - val_accuracy: 0.8320\n",
      "Epoch 114/200\n",
      "10000/10000 [==============================] - 3s 303us/step - loss: 0.2160 - accuracy: 0.9045 - val_loss: 0.5111 - val_accuracy: 0.8340\n",
      "Epoch 115/200\n",
      "10000/10000 [==============================] - 3s 308us/step - loss: 0.2190 - accuracy: 0.9059 - val_loss: 0.5248 - val_accuracy: 0.8340\n",
      "Epoch 116/200\n",
      "10000/10000 [==============================] - 3s 303us/step - loss: 0.2124 - accuracy: 0.9060 - val_loss: 0.4878 - val_accuracy: 0.8300\n",
      "Epoch 117/200\n",
      "10000/10000 [==============================] - 3s 304us/step - loss: 0.2127 - accuracy: 0.9069 - val_loss: 0.4844 - val_accuracy: 0.8350\n",
      "Epoch 118/200\n",
      "10000/10000 [==============================] - 3s 304us/step - loss: 0.2134 - accuracy: 0.9063 - val_loss: 0.4941 - val_accuracy: 0.8380\n",
      "Epoch 119/200\n",
      "10000/10000 [==============================] - 3s 305us/step - loss: 0.2128 - accuracy: 0.9025 - val_loss: 0.4854 - val_accuracy: 0.8340\n",
      "Epoch 120/200\n",
      "10000/10000 [==============================] - 3s 305us/step - loss: 0.2114 - accuracy: 0.9070 - val_loss: 0.5111 - val_accuracy: 0.8350\n",
      "Epoch 121/200\n",
      "10000/10000 [==============================] - 3s 306us/step - loss: 0.2079 - accuracy: 0.9075 - val_loss: 0.4959 - val_accuracy: 0.8350\n",
      "Epoch 122/200\n",
      "10000/10000 [==============================] - 3s 302us/step - loss: 0.2071 - accuracy: 0.9058 - val_loss: 0.5420 - val_accuracy: 0.8320\n",
      "Epoch 123/200\n",
      "10000/10000 [==============================] - 3s 306us/step - loss: 0.2101 - accuracy: 0.9093 - val_loss: 0.5220 - val_accuracy: 0.8380\n",
      "Epoch 124/200\n",
      "10000/10000 [==============================] - 3s 303us/step - loss: 0.2070 - accuracy: 0.9113 - val_loss: 0.5399 - val_accuracy: 0.8350\n",
      "Epoch 125/200\n",
      "10000/10000 [==============================] - 3s 302us/step - loss: 0.2041 - accuracy: 0.9104 - val_loss: 0.5149 - val_accuracy: 0.8260\n",
      "Epoch 126/200\n",
      "10000/10000 [==============================] - 3s 303us/step - loss: 0.2041 - accuracy: 0.9109 - val_loss: 0.5236 - val_accuracy: 0.8400\n",
      "Epoch 127/200\n",
      "10000/10000 [==============================] - 3s 304us/step - loss: 0.2088 - accuracy: 0.9075 - val_loss: 0.4999 - val_accuracy: 0.8340\n",
      "Epoch 128/200\n",
      "10000/10000 [==============================] - 3s 308us/step - loss: 0.2071 - accuracy: 0.9098 - val_loss: 0.5473 - val_accuracy: 0.8360\n",
      "Epoch 129/200\n",
      "10000/10000 [==============================] - 3s 306us/step - loss: 0.2021 - accuracy: 0.9125 - val_loss: 0.4808 - val_accuracy: 0.8300\n",
      "Epoch 130/200\n",
      "10000/10000 [==============================] - 3s 305us/step - loss: 0.2035 - accuracy: 0.9121 - val_loss: 0.5252 - val_accuracy: 0.8360\n",
      "Epoch 131/200\n",
      "10000/10000 [==============================] - 3s 306us/step - loss: 0.2003 - accuracy: 0.9118 - val_loss: 0.5195 - val_accuracy: 0.8390\n",
      "Epoch 132/200\n",
      "10000/10000 [==============================] - 3s 306us/step - loss: 0.1995 - accuracy: 0.9138 - val_loss: 0.5308 - val_accuracy: 0.8240\n",
      "Epoch 133/200\n",
      "10000/10000 [==============================] - 3s 306us/step - loss: 0.2027 - accuracy: 0.9139 - val_loss: 0.5533 - val_accuracy: 0.8320\n",
      "Epoch 134/200\n",
      "10000/10000 [==============================] - 3s 314us/step - loss: 0.1963 - accuracy: 0.9175 - val_loss: 0.5187 - val_accuracy: 0.8260\n",
      "Epoch 135/200\n",
      "10000/10000 [==============================] - 3s 310us/step - loss: 0.1966 - accuracy: 0.9145 - val_loss: 0.5640 - val_accuracy: 0.8190\n",
      "Epoch 136/200\n",
      "10000/10000 [==============================] - 3s 306us/step - loss: 0.1958 - accuracy: 0.9135 - val_loss: 0.5395 - val_accuracy: 0.8280\n",
      "Epoch 137/200\n",
      "10000/10000 [==============================] - 3s 303us/step - loss: 0.1965 - accuracy: 0.9160 - val_loss: 0.5742 - val_accuracy: 0.8300\n",
      "Epoch 138/200\n",
      "10000/10000 [==============================] - 3s 305us/step - loss: 0.1976 - accuracy: 0.9124 - val_loss: 0.5437 - val_accuracy: 0.8270\n",
      "Epoch 139/200\n",
      "10000/10000 [==============================] - 3s 306us/step - loss: 0.1968 - accuracy: 0.9159 - val_loss: 0.5760 - val_accuracy: 0.8310\n",
      "Epoch 140/200\n",
      "10000/10000 [==============================] - 3s 307us/step - loss: 0.1959 - accuracy: 0.9148 - val_loss: 0.5630 - val_accuracy: 0.8250\n",
      "Epoch 141/200\n",
      "10000/10000 [==============================] - 3s 315us/step - loss: 0.1978 - accuracy: 0.9139 - val_loss: 0.5710 - val_accuracy: 0.8290\n",
      "Epoch 142/200\n",
      "10000/10000 [==============================] - 3s 308us/step - loss: 0.1956 - accuracy: 0.9181 - val_loss: 0.5925 - val_accuracy: 0.8210\n",
      "Epoch 143/200\n",
      "10000/10000 [==============================] - 3s 311us/step - loss: 0.1848 - accuracy: 0.9185 - val_loss: 0.5915 - val_accuracy: 0.8280\n",
      "Epoch 144/200\n",
      "10000/10000 [==============================] - 3s 312us/step - loss: 0.1830 - accuracy: 0.9204 - val_loss: 0.5560 - val_accuracy: 0.8210\n",
      "Epoch 145/200\n",
      "10000/10000 [==============================] - 3s 302us/step - loss: 0.1917 - accuracy: 0.9161 - val_loss: 0.5674 - val_accuracy: 0.8300\n",
      "Epoch 146/200\n",
      "10000/10000 [==============================] - 3s 308us/step - loss: 0.1864 - accuracy: 0.9190 - val_loss: 0.5596 - val_accuracy: 0.8250\n",
      "Epoch 147/200\n",
      "10000/10000 [==============================] - 3s 308us/step - loss: 0.1924 - accuracy: 0.9189 - val_loss: 0.5562 - val_accuracy: 0.8190\n",
      "Epoch 148/200\n",
      "10000/10000 [==============================] - 3s 311us/step - loss: 0.1836 - accuracy: 0.9217 - val_loss: 0.5538 - val_accuracy: 0.8240\n",
      "Epoch 149/200\n",
      "10000/10000 [==============================] - 3s 309us/step - loss: 0.1893 - accuracy: 0.9181 - val_loss: 0.5144 - val_accuracy: 0.8240\n",
      "Epoch 150/200\n",
      "10000/10000 [==============================] - 3s 301us/step - loss: 0.1851 - accuracy: 0.9184 - val_loss: 0.6331 - val_accuracy: 0.8240\n",
      "Epoch 151/200\n",
      "10000/10000 [==============================] - 3s 297us/step - loss: 0.1888 - accuracy: 0.9189 - val_loss: 0.5499 - val_accuracy: 0.8210\n",
      "Epoch 152/200\n",
      "10000/10000 [==============================] - 3s 300us/step - loss: 0.1810 - accuracy: 0.9220 - val_loss: 0.6306 - val_accuracy: 0.8280\n",
      "Epoch 153/200\n",
      "10000/10000 [==============================] - 3s 306us/step - loss: 0.1787 - accuracy: 0.9288 - val_loss: 0.5383 - val_accuracy: 0.8140\n",
      "Epoch 154/200\n",
      "10000/10000 [==============================] - 3s 302us/step - loss: 0.1848 - accuracy: 0.9200 - val_loss: 0.5785 - val_accuracy: 0.8290\n",
      "Epoch 155/200\n",
      "10000/10000 [==============================] - 3s 304us/step - loss: 0.1807 - accuracy: 0.9239 - val_loss: 0.6068 - val_accuracy: 0.8330\n",
      "Epoch 156/200\n",
      "10000/10000 [==============================] - 3s 304us/step - loss: 0.1748 - accuracy: 0.9241 - val_loss: 0.5646 - val_accuracy: 0.8290\n",
      "Epoch 157/200\n",
      "10000/10000 [==============================] - 3s 302us/step - loss: 0.1822 - accuracy: 0.9228 - val_loss: 0.5907 - val_accuracy: 0.8220\n",
      "Epoch 158/200\n",
      "10000/10000 [==============================] - 3s 304us/step - loss: 0.1787 - accuracy: 0.9263 - val_loss: 0.5469 - val_accuracy: 0.8290\n",
      "Epoch 159/200\n",
      "10000/10000 [==============================] - 3s 304us/step - loss: 0.1737 - accuracy: 0.9245 - val_loss: 0.5936 - val_accuracy: 0.8320\n",
      "Epoch 160/200\n",
      "10000/10000 [==============================] - 3s 298us/step - loss: 0.1771 - accuracy: 0.9258 - val_loss: 0.5916 - val_accuracy: 0.8270\n",
      "Epoch 161/200\n",
      "10000/10000 [==============================] - 3s 302us/step - loss: 0.1813 - accuracy: 0.9215 - val_loss: 0.5836 - val_accuracy: 0.8300\n",
      "Epoch 162/200\n",
      "10000/10000 [==============================] - 3s 305us/step - loss: 0.1716 - accuracy: 0.9294 - val_loss: 0.5924 - val_accuracy: 0.8230\n",
      "Epoch 163/200\n"
     ]
    },
    {
     "name": "stdout",
     "output_type": "stream",
     "text": [
      "10000/10000 [==============================] - 3s 300us/step - loss: 0.1745 - accuracy: 0.9286 - val_loss: 0.6031 - val_accuracy: 0.8320\n",
      "Epoch 164/200\n",
      "10000/10000 [==============================] - 3s 293us/step - loss: 0.1748 - accuracy: 0.9269 - val_loss: 0.6042 - val_accuracy: 0.8220\n",
      "Epoch 165/200\n",
      "10000/10000 [==============================] - 3s 297us/step - loss: 0.1776 - accuracy: 0.9270 - val_loss: 0.6086 - val_accuracy: 0.8270\n",
      "Epoch 166/200\n",
      "10000/10000 [==============================] - 3s 299us/step - loss: 0.1710 - accuracy: 0.9288 - val_loss: 0.6412 - val_accuracy: 0.8280\n",
      "Epoch 167/200\n",
      "10000/10000 [==============================] - 3s 295us/step - loss: 0.1676 - accuracy: 0.9290 - val_loss: 0.5976 - val_accuracy: 0.8200\n",
      "Epoch 168/200\n",
      "10000/10000 [==============================] - 3s 298us/step - loss: 0.1730 - accuracy: 0.9281 - val_loss: 0.5815 - val_accuracy: 0.8330\n",
      "Epoch 169/200\n",
      "10000/10000 [==============================] - 3s 300us/step - loss: 0.1704 - accuracy: 0.9291 - val_loss: 0.5668 - val_accuracy: 0.8320\n",
      "Epoch 170/200\n",
      "10000/10000 [==============================] - 3s 295us/step - loss: 0.1672 - accuracy: 0.9339 - val_loss: 0.6130 - val_accuracy: 0.8250\n",
      "Epoch 171/200\n",
      "10000/10000 [==============================] - 3s 298us/step - loss: 0.1683 - accuracy: 0.9303 - val_loss: 0.5903 - val_accuracy: 0.8230\n",
      "Epoch 172/200\n",
      "10000/10000 [==============================] - 3s 295us/step - loss: 0.1670 - accuracy: 0.9310 - val_loss: 0.5755 - val_accuracy: 0.8260\n",
      "Epoch 173/200\n",
      "10000/10000 [==============================] - 3s 308us/step - loss: 0.1627 - accuracy: 0.9332 - val_loss: 0.5967 - val_accuracy: 0.8270\n",
      "Epoch 174/200\n",
      "10000/10000 [==============================] - 3s 298us/step - loss: 0.1553 - accuracy: 0.9340 - val_loss: 0.6187 - val_accuracy: 0.8270\n",
      "Epoch 175/200\n",
      "10000/10000 [==============================] - 3s 298us/step - loss: 0.1587 - accuracy: 0.9360 - val_loss: 0.6079 - val_accuracy: 0.8290\n",
      "Epoch 176/200\n",
      "10000/10000 [==============================] - 3s 302us/step - loss: 0.1601 - accuracy: 0.9351 - val_loss: 0.5690 - val_accuracy: 0.8270\n",
      "Epoch 177/200\n",
      "10000/10000 [==============================] - 3s 307us/step - loss: 0.1488 - accuracy: 0.9420 - val_loss: 0.6379 - val_accuracy: 0.8330\n",
      "Epoch 178/200\n",
      "10000/10000 [==============================] - 3s 308us/step - loss: 0.1477 - accuracy: 0.9402 - val_loss: 0.5661 - val_accuracy: 0.8360\n",
      "Epoch 179/200\n",
      "10000/10000 [==============================] - 3s 307us/step - loss: 0.1425 - accuracy: 0.9408 - val_loss: 0.6194 - val_accuracy: 0.8230\n",
      "Epoch 180/200\n",
      "10000/10000 [==============================] - 3s 306us/step - loss: 0.1479 - accuracy: 0.9401 - val_loss: 0.5520 - val_accuracy: 0.8310\n",
      "Epoch 181/200\n",
      "10000/10000 [==============================] - 3s 309us/step - loss: 0.1429 - accuracy: 0.9405 - val_loss: 0.5535 - val_accuracy: 0.8460\n",
      "Epoch 182/200\n",
      "10000/10000 [==============================] - 3s 305us/step - loss: 0.1386 - accuracy: 0.9463 - val_loss: 0.5268 - val_accuracy: 0.8450\n",
      "Epoch 183/200\n",
      "10000/10000 [==============================] - 3s 300us/step - loss: 0.1400 - accuracy: 0.9474 - val_loss: 0.5453 - val_accuracy: 0.8320\n",
      "Epoch 184/200\n",
      "10000/10000 [==============================] - 3s 298us/step - loss: 0.1350 - accuracy: 0.9467 - val_loss: 0.5865 - val_accuracy: 0.8490\n",
      "Epoch 185/200\n",
      "10000/10000 [==============================] - 3s 301us/step - loss: 0.1315 - accuracy: 0.9487 - val_loss: 0.5664 - val_accuracy: 0.8450\n",
      "Epoch 186/200\n",
      "10000/10000 [==============================] - 3s 300us/step - loss: 0.1326 - accuracy: 0.9483 - val_loss: 0.5491 - val_accuracy: 0.8550\n",
      "Epoch 187/200\n",
      "10000/10000 [==============================] - 3s 305us/step - loss: 0.1277 - accuracy: 0.9508 - val_loss: 0.5237 - val_accuracy: 0.8570\n",
      "Epoch 188/200\n",
      "10000/10000 [==============================] - 3s 304us/step - loss: 0.1212 - accuracy: 0.9532 - val_loss: 0.5626 - val_accuracy: 0.8670\n",
      "Epoch 189/200\n",
      "10000/10000 [==============================] - 3s 306us/step - loss: 0.1215 - accuracy: 0.9528 - val_loss: 0.6030 - val_accuracy: 0.8520\n",
      "Epoch 190/200\n",
      "10000/10000 [==============================] - 3s 304us/step - loss: 0.1199 - accuracy: 0.9547 - val_loss: 0.5687 - val_accuracy: 0.8580\n",
      "Epoch 191/200\n",
      "10000/10000 [==============================] - 3s 296us/step - loss: 0.1159 - accuracy: 0.9556 - val_loss: 0.5547 - val_accuracy: 0.8630\n",
      "Epoch 192/200\n",
      "10000/10000 [==============================] - 3s 303us/step - loss: 0.1145 - accuracy: 0.9551 - val_loss: 0.5276 - val_accuracy: 0.8540\n",
      "Epoch 193/200\n",
      "10000/10000 [==============================] - 3s 302us/step - loss: 0.1193 - accuracy: 0.9563 - val_loss: 0.4982 - val_accuracy: 0.8620\n",
      "Epoch 194/200\n",
      "10000/10000 [==============================] - 3s 301us/step - loss: 0.1128 - accuracy: 0.9591 - val_loss: 0.5958 - val_accuracy: 0.8710\n",
      "Epoch 195/200\n",
      "10000/10000 [==============================] - 3s 305us/step - loss: 0.1019 - accuracy: 0.9601 - val_loss: 0.5395 - val_accuracy: 0.8630\n",
      "Epoch 196/200\n",
      "10000/10000 [==============================] - 3s 304us/step - loss: 0.1069 - accuracy: 0.9621 - val_loss: 0.5297 - val_accuracy: 0.8570\n",
      "Epoch 197/200\n",
      "10000/10000 [==============================] - 3s 304us/step - loss: 0.1078 - accuracy: 0.9592 - val_loss: 0.5497 - val_accuracy: 0.8630\n",
      "Epoch 198/200\n",
      "10000/10000 [==============================] - 3s 306us/step - loss: 0.1060 - accuracy: 0.9602 - val_loss: 0.5795 - val_accuracy: 0.8660\n",
      "Epoch 199/200\n",
      "10000/10000 [==============================] - 3s 302us/step - loss: 0.1023 - accuracy: 0.9628 - val_loss: 0.5475 - val_accuracy: 0.8720\n",
      "Epoch 200/200\n",
      "10000/10000 [==============================] - 3s 302us/step - loss: 0.1036 - accuracy: 0.9629 - val_loss: 0.5204 - val_accuracy: 0.8730\n"
     ]
    }
   ],
   "source": [
    "history = model.fit([inputs_train, queries_train], answers_train, batch_size=32, epochs = 200, validation_data=([inputs_test, queries_test], answers_test))"
   ]
  },
  {
   "cell_type": "code",
   "execution_count": 59,
   "metadata": {},
   "outputs": [],
   "source": [
    "filename = \"chatbot.h5\"\n",
    "model.save(filename)"
   ]
  },
  {
   "cell_type": "code",
   "execution_count": 64,
   "metadata": {},
   "outputs": [
    {
     "name": "stdout",
     "output_type": "stream",
     "text": [
      "dict_keys(['val_loss', 'val_accuracy', 'loss', 'accuracy'])\n"
     ]
    },
    {
     "data": {
      "image/png": "[encoded data removed]",
      "text/plain": [
       "<Figure size 432x288 with 1 Axes>"
      ]
     },
     "metadata": {
      "needs_background": "light"
     },
     "output_type": "display_data"
    }
   ],
   "source": [
    "import matplotlib.pyplot as plt\n",
    "print(history.history.keys())\n",
    "# summarize history for accuracy\n",
    "plt.plot(history.history['accuracy'])\n",
    "plt.plot(history.history['val_accuracy'])\n",
    "plt.title('model accuracy')\n",
    "plt.ylabel('accuracy')\n",
    "plt.xlabel('epoch')\n",
    "plt.legend(['train', 'test'], loc='upper left')\n",
    "plt.show()"
   ]
  },
  {
   "cell_type": "code",
   "execution_count": 65,
   "metadata": {},
   "outputs": [],
   "source": [
    "pred_results = model.predict(([inputs_test, queries_test]))"
   ]
  },
  {
   "cell_type": "code",
   "execution_count": 66,
   "metadata": {},
   "outputs": [
    {
     "data": {
      "text/plain": [
       "array([[1.9736185e-15, 1.7839410e-15, 2.1506455e-15, ..., 9.9999416e-01,\n",
       "        2.0767147e-15, 1.9369223e-15],\n",
       "       [2.0673067e-16, 1.8996598e-16, 2.4513192e-16, ..., 9.9999750e-01,\n",
       "        2.2071269e-16, 2.0610547e-16],\n",
       "       [4.4020933e-12, 4.5647236e-12, 4.5311879e-12, ..., 9.2892252e-02,\n",
       "        4.0999322e-12, 3.9836255e-12],\n",
       "       ...,\n",
       "       [1.6800756e-17, 1.6208368e-17, 2.0859326e-17, ..., 9.9999905e-01,\n",
       "        1.7694034e-17, 1.6881896e-17],\n",
       "       [2.7998546e-18, 1.7745235e-18, 2.5474884e-18, ..., 1.0147299e-05,\n",
       "        1.9701616e-18, 1.7660685e-18],\n",
       "       [1.8547856e-16, 2.3862297e-16, 2.3824914e-16, ..., 9.9988019e-01,\n",
       "        2.3290508e-16, 2.3590140e-16]], dtype=float32)"
      ]
     },
     "execution_count": 66,
     "metadata": {},
     "output_type": "execute_result"
    }
   ],
   "source": [
    "pred_results"
   ]
  },
  {
   "cell_type": "code",
   "execution_count": 68,
   "metadata": {},
   "outputs": [
    {
     "data": {
      "text/plain": [
       "array([1.9736185e-15, 1.7839410e-15, 2.1506455e-15, 2.1595897e-15,\n",
       "       2.1324603e-15, 1.6814412e-15, 1.9469525e-15, 1.9015468e-15,\n",
       "       2.0342957e-15, 2.4605591e-15, 1.7642742e-15, 1.7650146e-15,\n",
       "       2.1815319e-15, 1.8560950e-15, 2.0655589e-15, 2.1137680e-15,\n",
       "       1.6580905e-15, 2.1186278e-15, 2.3023291e-15, 1.5979313e-15,\n",
       "       1.8410467e-15, 1.9705114e-15, 2.0871980e-15, 5.8121541e-06,\n",
       "       1.7917294e-15, 1.8886067e-15, 1.5899416e-15, 1.6329385e-15,\n",
       "       1.7963282e-15, 1.9750343e-15, 2.0749489e-15, 2.1716345e-15,\n",
       "       1.9070093e-15, 2.0780143e-15, 1.9948422e-15, 9.9999416e-01,\n",
       "       2.0767147e-15, 1.9369223e-15], dtype=float32)"
      ]
     },
     "execution_count": 68,
     "metadata": {},
     "output_type": "execute_result"
    }
   ],
   "source": [
    "pred_results[0]"
   ]
  },
  {
   "cell_type": "code",
   "execution_count": 69,
   "metadata": {},
   "outputs": [],
   "source": [
    "val_max = np.argmax(pred_results[0])"
   ]
  },
  {
   "cell_type": "code",
   "execution_count": 70,
   "metadata": {},
   "outputs": [
    {
     "data": {
      "text/plain": [
       "['Mary',\n",
       " 'got',\n",
       " 'the',\n",
       " 'milk',\n",
       " 'there',\n",
       " '.',\n",
       " 'John',\n",
       " 'moved',\n",
       " 'to',\n",
       " 'the',\n",
       " 'bedroom',\n",
       " '.']"
      ]
     },
     "execution_count": 70,
     "metadata": {},
     "output_type": "execute_result"
    }
   ],
   "source": [
    "test_data[0][0]"
   ]
  },
  {
   "cell_type": "code",
   "execution_count": 71,
   "metadata": {},
   "outputs": [
    {
     "data": {
      "text/plain": [
       "['Is', 'John', 'in', 'the', 'kitchen', '?']"
      ]
     },
     "execution_count": 71,
     "metadata": {},
     "output_type": "execute_result"
    }
   ],
   "source": [
    "test_data[0][1]"
   ]
  },
  {
   "cell_type": "code",
   "execution_count": 73,
   "metadata": {},
   "outputs": [
    {
     "data": {
      "text/plain": [
       "'no'"
      ]
     },
     "execution_count": 73,
     "metadata": {},
     "output_type": "execute_result"
    }
   ],
   "source": [
    "test_data[0][2]"
   ]
  },
  {
   "cell_type": "code",
   "execution_count": 74,
   "metadata": {},
   "outputs": [],
   "source": [
    "for key, val in tokenizer.word_index.items():\n",
    "    if val==val_max:\n",
    "        k = key"
   ]
  },
  {
   "cell_type": "code",
   "execution_count": 75,
   "metadata": {},
   "outputs": [
    {
     "data": {
      "text/plain": [
       "'no'"
      ]
     },
     "execution_count": 75,
     "metadata": {},
     "output_type": "execute_result"
    }
   ],
   "source": [
    "k"
   ]
  },
  {
   "cell_type": "code",
   "execution_count": 76,
   "metadata": {},
   "outputs": [
    {
     "data": {
      "text/plain": [
       "0.99999416"
      ]
     },
     "execution_count": 76,
     "metadata": {},
     "output_type": "execute_result"
    }
   ],
   "source": [
    "pred_results[0][val_max]"
   ]
  },
  {
   "cell_type": "code",
   "execution_count": 77,
   "metadata": {},
   "outputs": [],
   "source": [
    "my_story = \"John left the kitchen . Sandra dropped football in the garden .\""
   ]
  },
  {
   "cell_type": "code",
   "execution_count": 78,
   "metadata": {},
   "outputs": [
    {
     "data": {
      "text/plain": [
       "['John',\n",
       " 'left',\n",
       " 'the',\n",
       " 'kitchen',\n",
       " '.',\n",
       " 'Sandra',\n",
       " 'dropped',\n",
       " 'football',\n",
       " 'in',\n",
       " 'the',\n",
       " 'garden',\n",
       " '.']"
      ]
     },
     "execution_count": 78,
     "metadata": {},
     "output_type": "execute_result"
    }
   ],
   "source": [
    "my_story.split()"
   ]
  },
  {
   "cell_type": "code",
   "execution_count": 79,
   "metadata": {},
   "outputs": [],
   "source": [
    "my_question = \"Is the football in the garden ?\""
   ]
  },
  {
   "cell_type": "code",
   "execution_count": 80,
   "metadata": {},
   "outputs": [],
   "source": [
    "mydata = [(my_story.split(), my_question.split(), \"yes\")]"
   ]
  },
  {
   "cell_type": "code",
   "execution_count": 81,
   "metadata": {},
   "outputs": [
    {
     "data": {
      "text/plain": [
       "[(['John',\n",
       "   'left',\n",
       "   'the',\n",
       "   'kitchen',\n",
       "   '.',\n",
       "   'Sandra',\n",
       "   'dropped',\n",
       "   'football',\n",
       "   'in',\n",
       "   'the',\n",
       "   'garden',\n",
       "   '.'],\n",
       "  ['Is', 'the', 'football', 'in', 'the', 'garden', '?'],\n",
       "  'yes')]"
      ]
     },
     "execution_count": 81,
     "metadata": {},
     "output_type": "execute_result"
    }
   ],
   "source": [
    "mydata\n"
   ]
  },
  {
   "cell_type": "code",
   "execution_count": 82,
   "metadata": {},
   "outputs": [],
   "source": [
    "my_story, my_ques, my_ans = vectorize_stories(mydata)"
   ]
  },
  {
   "cell_type": "code",
   "execution_count": 83,
   "metadata": {},
   "outputs": [],
   "source": [
    "ans = model.predict(([my_story, my_ques]))"
   ]
  },
  {
   "cell_type": "code",
   "execution_count": 84,
   "metadata": {},
   "outputs": [
    {
     "data": {
      "text/plain": [
       "array([[1.50342842e-16, 9.35506862e-17, 1.30192802e-16, 1.15647989e-16,\n",
       "        1.38216256e-16, 1.37186687e-16, 1.02242528e-16, 1.12935829e-16,\n",
       "        1.31055346e-16, 1.08706733e-16, 1.46680973e-16, 1.21368320e-16,\n",
       "        1.04892974e-16, 1.13387788e-16, 1.32678606e-16, 1.12469789e-16,\n",
       "        1.05696305e-16, 1.87799725e-16, 1.05912642e-16, 1.44303934e-16,\n",
       "        1.15982435e-16, 1.05766483e-16, 1.17526999e-16, 9.99957442e-01,\n",
       "        1.51788106e-16, 1.09038154e-16, 1.56417114e-16, 1.10293589e-16,\n",
       "        1.25551948e-16, 1.10339455e-16, 1.41719200e-16, 1.14719125e-16,\n",
       "        1.53882871e-16, 1.13192454e-16, 1.35765922e-16, 4.25660437e-05,\n",
       "        1.08632942e-16, 9.24385717e-17]], dtype=float32)"
      ]
     },
     "execution_count": 84,
     "metadata": {},
     "output_type": "execute_result"
    }
   ],
   "source": [
    "ans"
   ]
  },
  {
   "cell_type": "code",
   "execution_count": 85,
   "metadata": {},
   "outputs": [
    {
     "data": {
      "text/plain": [
       "23"
      ]
     },
     "execution_count": 85,
     "metadata": {},
     "output_type": "execute_result"
    }
   ],
   "source": [
    "np.argmax(ans)"
   ]
  },
  {
   "cell_type": "code",
   "execution_count": 90,
   "metadata": {},
   "outputs": [
    {
     "data": {
      "text/plain": [
       "0.99995744"
      ]
     },
     "execution_count": 90,
     "metadata": {},
     "output_type": "execute_result"
    }
   ],
   "source": [
    "ans[0][23]"
   ]
  },
  {
   "cell_type": "code",
   "execution_count": 91,
   "metadata": {},
   "outputs": [
    {
     "data": {
      "text/plain": [
       "{'.',\n",
       " '?',\n",
       " 'Daniel',\n",
       " 'Is',\n",
       " 'John',\n",
       " 'Mary',\n",
       " 'Sandra',\n",
       " 'apple',\n",
       " 'back',\n",
       " 'bathroom',\n",
       " 'bedroom',\n",
       " 'discarded',\n",
       " 'down',\n",
       " 'dropped',\n",
       " 'football',\n",
       " 'garden',\n",
       " 'got',\n",
       " 'grabbed',\n",
       " 'hallway',\n",
       " 'in',\n",
       " 'journeyed',\n",
       " 'kitchen',\n",
       " 'left',\n",
       " 'milk',\n",
       " 'moved',\n",
       " 'no',\n",
       " 'office',\n",
       " 'picked',\n",
       " 'put',\n",
       " 'the',\n",
       " 'there',\n",
       " 'to',\n",
       " 'took',\n",
       " 'travelled',\n",
       " 'up',\n",
       " 'went',\n",
       " 'yes'}"
      ]
     },
     "execution_count": 91,
     "metadata": {},
     "output_type": "execute_result"
    }
   ],
   "source": [
    "vocab"
   ]
  },
  {
   "cell_type": "code",
   "execution_count": null,
   "metadata": {},
   "outputs": [],
   "source": []
  }
 ],
 "metadata": {
  "kernelspec": {
   "display_name": "Python 3.7.6 64-bit",
   "language": "python",
   "name": "python37664bitb17fdf98e28c491e8ebba8b35e662a75"
  },
  "language_info": {
   "codemirror_mode": {
    "name": "ipython",
    "version": 3
   },
   "file_extension": ".py",
   "mimetype": "text/x-python",
   "name": "python",
   "nbconvert_exporter": "python",
   "pygments_lexer": "ipython3",
   "version": "3.7.6"
  }
 },
 "nbformat": 4,
 "nbformat_minor": 4
}
